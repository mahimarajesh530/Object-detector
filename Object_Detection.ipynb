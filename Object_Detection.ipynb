{
 "cells": [
  {
   "cell_type": "markdown",
   "metadata": {},
   "source": [
    "# The Sparks Foundation\n",
    "\n",
    "# Task 1: Object Detection\n",
    "\n",
    "# By Mahima Rajesh\n",
    "\n",
    "# Implement an object detector which identifies the classes of the objects in an image.\n"
   ]
  },
  {
   "cell_type": "code",
   "execution_count": 1,
   "metadata": {},
   "outputs": [],
   "source": [
    "import cv2\n",
    "\n",
    "import matplotlib.pyplot as plt\n",
    "import numpy\n",
    "import numpy as np\n",
    "\n",
    "\n"
   ]
  },
  {
   "cell_type": "code",
   "execution_count": null,
   "metadata": {},
   "outputs": [],
   "source": [
    "net = cv2.dnn.readNetFromDarknet('yolo2.cfg','yolov2.weights')\n"
   ]
  },
  {
   "cell_type": "code",
   "execution_count": null,
   "metadata": {},
   "outputs": [],
   "source": [
    "classes =[]\n",
    "with open('coco.names','r') as f:\n",
    "    classes = [line.strip() for line in f.readlines()]\n",
    "    "
   ]
  },
  {
   "cell_type": "code",
   "execution_count": null,
   "metadata": {},
   "outputs": [],
   "source": [
    "my_img=cv2.imread('traffic-light.jpg')\n",
    "my_img = cv2.resize(my_img,(1366,768))"
   ]
  },
  {
   "cell_type": "code",
   "execution_count": null,
   "metadata": {},
   "outputs": [],
   "source": [
    "plt.imshow(my_img)"
   ]
  },
  {
   "cell_type": "code",
   "execution_count": null,
   "metadata": {},
   "outputs": [],
   "source": [
    "ht,wt, _ = my_img.shape"
   ]
  },
  {
   "cell_type": "code",
   "execution_count": null,
   "metadata": {},
   "outputs": [],
   "source": [
    "\n",
    "blob=cv2.dnn.blobFromImage(my_img,1/255,(416,416),(0,0,0),swapRB = True, crop = False)"
   ]
  },
  {
   "cell_type": "code",
   "execution_count": null,
   "metadata": {},
   "outputs": [],
   "source": [
    "blob.shape"
   ]
  },
  {
   "cell_type": "code",
   "execution_count": null,
   "metadata": {},
   "outputs": [],
   "source": [
    "net.setInput(blob)"
   ]
  },
  {
   "cell_type": "code",
   "execution_count": null,
   "metadata": {},
   "outputs": [],
   "source": [
    "last_layer= net.getUnconnectedOutLayersNames()"
   ]
  },
  {
   "cell_type": "code",
   "execution_count": null,
   "metadata": {},
   "outputs": [],
   "source": [
    "layer_out = net.forward(last_layer)"
   ]
  },
  {
   "cell_type": "code",
   "execution_count": null,
   "metadata": {},
   "outputs": [],
   "source": [
    "boxes =[]\n",
    "confidences =[]\n",
    "class_ids =[]\n",
    "for output in layer_out:\n",
    "    for detection in output:\n",
    "        score = detection [5:]\n",
    "        class_id = np.argmax(score)\n",
    "        confidence = score[class_id]\n",
    "        if confidence > .6:\n",
    "            centre_x= int(detection [0] *wt)\n",
    "            centre_y = int(detection[1] *ht)\n",
    "            w= int(detection[2] *wt)\n",
    "            h= int(detection[3] *ht)\n",
    "            \n",
    "            x= int(centre_x - w/2)\n",
    "            y= int(centre_y - h/2)\n",
    "            boxes.append([x,y,w,h])\n",
    "            confidences.append((float(confidence)))\n",
    "            class_ids.append(class_id)\n",
    "            "
   ]
  },
  {
   "cell_type": "code",
   "execution_count": null,
   "metadata": {},
   "outputs": [],
   "source": [
    "indexes = cv2.dnn.NMSBoxes(boxes,confidences,.5,.4)\n",
    "font = cv2.FONT_HERSHEY_PLAIN\n",
    "colors= np.random.uniform(0,255,size= (len(boxes),3))"
   ]
  },
  {
   "cell_type": "code",
   "execution_count": null,
   "metadata": {},
   "outputs": [],
   "source": [
    "for i in indexes.flatten():\n",
    "    x,y,w,h=boxes[i]\n",
    "    label= str(classes[class_ids[i]])\n",
    "    confidence= str(round(confidences[i],2))\n",
    "    color=colors[i]\n",
    "    cv2.rectangle(my_img,(x,y),(x+w,y+h),color,2)\n",
    "    cv2.putText(my_img,label +\" \"+confidence,(x,y+20),font,2,(255,0,0),2)\n",
    "cv2.imshow('img',my_img)\n",
    "cv2.waitKey(0)\n",
    "cv2.destroyALLWindows()"
   ]
  },
  {
   "cell_type": "code",
   "execution_count": null,
   "metadata": {},
   "outputs": [],
   "source": []
  }
 ],
 "metadata": {
  "kernelspec": {
   "display_name": "Python 3",
   "language": "python",
   "name": "python3"
  },
  "language_info": {
   "codemirror_mode": {
    "name": "ipython",
    "version": 3
   },
   "file_extension": ".py",
   "mimetype": "text/x-python",
   "name": "python",
   "nbconvert_exporter": "python",
   "pygments_lexer": "ipython3",
   "version": "3.8.5"
  }
 },
 "nbformat": 4,
 "nbformat_minor": 4
}
